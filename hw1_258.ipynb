{
 "cells": [
  {
   "cell_type": "code",
   "execution_count": 66,
   "metadata": {},
   "outputs": [
    {
     "name": "stdout",
     "output_type": "stream",
     "text": [
      "Size of M= (3, 3)\n",
      "Size of V= (3, 1)\n",
      "V+V= [[2]\n",
      " [4]\n",
      " [6]]\n",
      "2*v= [[2]\n",
      " [4]\n",
      " [6]]\n",
      "Z= [[0]\n",
      " [0]\n",
      " [0]]\n",
      "[[1 0 0]\n",
      " [0 1 0]\n",
      " [0 0 1]]\n",
      "M*v [[14]\n",
      " [32]\n",
      " [50]]\n",
      "Transpose of M= [[1 4 7]\n",
      " [2 5 8]\n",
      " [3 6 9]]\n",
      "V.*V= [[1]\n",
      " [4]\n",
      " [9]]\n",
      "Inverse of M= [[ 3.15251974e+15 -6.30503948e+15  3.15251974e+15]\n",
      " [-6.30503948e+15  1.26100790e+16 -6.30503948e+15]\n",
      " [ 3.15251974e+15 -6.30503948e+15  3.15251974e+15]]\n"
     ]
    }
   ],
   "source": [
    "import numpy as np\n",
    "M=np.array([[1,2,3],[4,5,6],[7,8,9]]);\n",
    "V=(np.array([1,2,3])).reshape(3,1);\n",
    "print(\"Size of M=\",M.shape);\n",
    "print(\"Size of V=\",V.shape);\n",
    "print(\"V+V=\",np.add(V,V));\n",
    "print(\"2*v=\",np.dot(2,V));\n",
    "Z=np.zeros((3,1),dtype=int);\n",
    "print(\"Z=\",Z);\n",
    "print(np.eye(3,dtype=int));\n",
    "print(\"M*v\",M.dot(V));\n",
    "print(\"Transpose of M=\",M.T);\n",
    "print(\"V.*V=\",np.multiply(V,V));\n",
    "print(\"Inverse of M=\",(np.linalg.inv(M)));\n"
   ]
  },
  {
   "cell_type": "code",
   "execution_count": null,
   "metadata": {},
   "outputs": [],
   "source": []
  },
  {
   "cell_type": "code",
   "execution_count": null,
   "metadata": {},
   "outputs": [],
   "source": []
  }
 ],
 "metadata": {
  "kernelspec": {
   "display_name": "Python 3",
   "language": "python",
   "name": "python3"
  },
  "language_info": {
   "codemirror_mode": {
    "name": "ipython",
    "version": 3
   },
   "file_extension": ".py",
   "mimetype": "text/x-python",
   "name": "python",
   "nbconvert_exporter": "python",
   "pygments_lexer": "ipython3",
   "version": "3.7.3"
  }
 },
 "nbformat": 4,
 "nbformat_minor": 2
}
